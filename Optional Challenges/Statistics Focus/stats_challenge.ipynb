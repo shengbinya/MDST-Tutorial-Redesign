{
 "cells": [
  {
   "cell_type": "markdown",
   "metadata": {},
   "source": [
    "# Statistics Challenge (Optional)"
   ]
  },
  {
   "cell_type": "markdown",
   "metadata": {},
   "source": [
    "Use the `orders.csv` dataset in the same directory to complete this challenge.\n",
    "\n",
    "**Background**:\n",
    "\n",
    "There are exactly 100 sneaker shops on a sneaker retailing website, and each of these shops sells only one model of shoe. We want to do some analysis of the average order value (AOV). When we look at orders data over a 30 day window, we naively calculate an AOV of $3145.13. Given that we know these shops are selling sneakers, a relatively affordable item, something seems wrong with our analysis. \n",
    "\n",
    "**Questions**:\n",
    "\n",
    "- What went wrong with this metric and our analysis? \n",
    "\n",
    "- Propose some new metrics that better represents the behavior of the stores' customers. Why are these metrics better? You can propose as many new metrics as you wish but quality heavily outweights quantity.\n",
    "\n",
    "- Find the values of your new metrics.\n",
    "\n",
    "- Report any other interesting findings.\n",
    "\n",
    "Show all of your work in this notebook."
   ]
  },
  {
   "cell_type": "code",
   "execution_count": 1,
   "metadata": {},
   "outputs": [],
   "source": [
    "import numpy as np\n",
    "import pandas as pd\n",
    "import matplotlib.pyplot as plt\n",
    "from sklearn.model_selection import train_test_split"
   ]
  },
  {
   "cell_type": "code",
   "execution_count": 10,
   "metadata": {},
   "outputs": [
    {
     "name": "stdout",
     "output_type": "stream",
     "text": [
      "   order_id  shop_id  user_id  order_value  total_items payment_method  \\\n",
      "0         1       53      746          224            2           cash   \n",
      "1         2       92      925           90            1           cash   \n",
      "2         3       44      861          144            1           cash   \n",
      "3         4       18      935          156            1    credit_card   \n",
      "4         5       18      883          156            1    credit_card   \n",
      "\n",
      "            created_at  \n",
      "0  2017-03-13 12:36:56  \n",
      "1  2017-03-03 17:38:52  \n",
      "2   2017-03-14 4:23:56  \n",
      "3  2017-03-26 12:43:37  \n",
      "4   2017-03-01 4:35:11  \n"
     ]
    },
    {
     "data": {
      "text/plain": [
       "order_id           int64\n",
       "shop_id            int64\n",
       "user_id            int64\n",
       "order_value        int64\n",
       "total_items        int64\n",
       "payment_method    object\n",
       "created_at        object\n",
       "dtype: object"
      ]
     },
     "execution_count": 10,
     "metadata": {},
     "output_type": "execute_result"
    }
   ],
   "source": [
    "df = pd.read_csv('orders.csv')\n",
    "print(df. head())\n",
    "df.dtypes"
   ]
  },
  {
   "cell_type": "code",
   "execution_count": 33,
   "metadata": {},
   "outputs": [
    {
     "name": "stdout",
     "output_type": "stream",
     "text": [
      "3145.128\n"
     ]
    },
    {
     "data": {
      "text/html": [
       "<div>\n",
       "<style scoped>\n",
       "    .dataframe tbody tr th:only-of-type {\n",
       "        vertical-align: middle;\n",
       "    }\n",
       "\n",
       "    .dataframe tbody tr th {\n",
       "        vertical-align: top;\n",
       "    }\n",
       "\n",
       "    .dataframe thead th {\n",
       "        text-align: right;\n",
       "    }\n",
       "</style>\n",
       "<table border=\"1\" class=\"dataframe\">\n",
       "  <thead>\n",
       "    <tr style=\"text-align: right;\">\n",
       "      <th></th>\n",
       "      <th>order_id</th>\n",
       "      <th>shop_id</th>\n",
       "      <th>user_id</th>\n",
       "      <th>order_value</th>\n",
       "      <th>total_items</th>\n",
       "      <th>payment_method</th>\n",
       "      <th>created_at</th>\n",
       "      <th>date-time</th>\n",
       "    </tr>\n",
       "  </thead>\n",
       "  <tbody>\n",
       "    <tr>\n",
       "      <th>15</th>\n",
       "      <td>16</td>\n",
       "      <td>42</td>\n",
       "      <td>607</td>\n",
       "      <td>704000</td>\n",
       "      <td>2000</td>\n",
       "      <td>credit_card</td>\n",
       "      <td>2017-03-07 4:00:00</td>\n",
       "      <td>2017-03-07 04:00:00</td>\n",
       "    </tr>\n",
       "  </tbody>\n",
       "</table>\n",
       "</div>"
      ],
      "text/plain": [
       "    order_id  shop_id  user_id  order_value  total_items payment_method  \\\n",
       "15        16       42      607       704000         2000    credit_card   \n",
       "\n",
       "            created_at           date-time  \n",
       "15  2017-03-07 4:00:00 2017-03-07 04:00:00  "
      ]
     },
     "execution_count": 33,
     "metadata": {},
     "output_type": "execute_result"
    }
   ],
   "source": [
    "# AOV naive calculaion: total_order_value/num_order_30_days\n",
    "# below try calculate AOV naively\n",
    "# First, convert to day-time object\n",
    "df[\"date-time\"] = pd.to_datetime(df[\"created_at\"])\n",
    "df.head()\n",
    "df.dtypes\n",
    "# Second, select a 30-day window\n",
    "start_date = pd.to_datetime(\"2017-03-01 0:00:00\")\n",
    "end_date = pd.to_datetime(\"2017-03-30 23:59:59\")\n",
    "df_30_day = df.loc[(df['date-time'] > start_date) & (df['date-time'] < end_date)]\n",
    "df_30_day.head()\n",
    "AOV = df_30_day[\"order_value\"].sum() / df_30_day[\"order_id\"].nunique()\n",
    "print(AOV)\n",
    "df_30_day.iloc[df_30_day[[\"order_value\"]].idxmax()]"
   ]
  },
  {
   "cell_type": "markdown",
   "metadata": {},
   "source": [
    "Answer for q1:\n",
    "The problem with the original metric and analysis is ignoring the vast differences in total items order for each order. For example, for the first orders, the number of items ordered are 1 or 2. However, we can see in order_id 16, the number of items order is 2000, and therefore the order value is 704000, which will increase the average by a significant amount.\n",
    "Even though most orders are in small amount, one large order like order_id 16 can have too much weight in naively calculating AOV, and therefore the result will not represent order value for average customers (the large orders are rare, possibly done by large firms, and shouldn't be have much weight in the result)."
   ]
  },
  {
   "cell_type": "markdown",
   "metadata": {},
   "source": [
    "Answer for q2:\n",
    "One better metric will be the median of order values over a 30-day window, because in that case we will look at what value most people order.\n",
    "Another better metric is doing the same calculation of naive approach, but we discard extreme cases, in this scenario, large orders."
   ]
  },
  {
   "cell_type": "code",
   "execution_count": 36,
   "metadata": {},
   "outputs": [
    {
     "data": {
      "text/plain": [
       "284.0"
      ]
     },
     "execution_count": 36,
     "metadata": {},
     "output_type": "execute_result"
    }
   ],
   "source": [
    "# First, we find metirc: median\n",
    "MOV = df_30_day[\"order_value\"].median()\n",
    "MOV"
   ]
  },
  {
   "cell_type": "code",
   "execution_count": 39,
   "metadata": {},
   "outputs": [
    {
     "data": {
      "text/plain": [
       "2.0"
      ]
     },
     "execution_count": 39,
     "metadata": {},
     "output_type": "execute_result"
    }
   ],
   "source": [
    "# Second, we find metric: average but without extreme values\n",
    "median_num_items_ordered = df_30_day[\"total_items\"].median()\n",
    "median_num_items_ordered"
   ]
  },
  {
   "cell_type": "code",
   "execution_count": 44,
   "metadata": {},
   "outputs": [
    {
     "data": {
      "text/plain": [
       "722.3541666666666"
      ]
     },
     "execution_count": 44,
     "metadata": {},
     "output_type": "execute_result"
    }
   ],
   "source": [
    "# Here, we consider any order above 4 items as extreme, because the median number ordered is 2\n",
    "df_30_day_no_extreme = df_30_day.loc[df_30_day[\"total_items\"] <= 4]\n",
    "AOV_no_extreme = df_30_day_no_extreme[\"order_value\"].sum() / df_30_day_no_extreme[\"order_id\"].nunique()\n",
    "AOV_no_extreme"
   ]
  },
  {
   "cell_type": "code",
   "execution_count": 46,
   "metadata": {},
   "outputs": [
    {
     "data": {
      "text/html": [
       "<div>\n",
       "<style scoped>\n",
       "    .dataframe tbody tr th:only-of-type {\n",
       "        vertical-align: middle;\n",
       "    }\n",
       "\n",
       "    .dataframe tbody tr th {\n",
       "        vertical-align: top;\n",
       "    }\n",
       "\n",
       "    .dataframe thead th {\n",
       "        text-align: right;\n",
       "    }\n",
       "</style>\n",
       "<table border=\"1\" class=\"dataframe\">\n",
       "  <thead>\n",
       "    <tr style=\"text-align: right;\">\n",
       "      <th></th>\n",
       "      <th>order_id</th>\n",
       "      <th>shop_id</th>\n",
       "      <th>user_id</th>\n",
       "      <th>order_value</th>\n",
       "      <th>total_items</th>\n",
       "      <th>payment_method</th>\n",
       "      <th>created_at</th>\n",
       "      <th>date-time</th>\n",
       "    </tr>\n",
       "  </thead>\n",
       "  <tbody>\n",
       "    <tr>\n",
       "      <th>2548</th>\n",
       "      <td>2549</td>\n",
       "      <td>78</td>\n",
       "      <td>861</td>\n",
       "      <td>25725</td>\n",
       "      <td>1</td>\n",
       "      <td>cash</td>\n",
       "      <td>2017-03-17 19:36:00</td>\n",
       "      <td>2017-03-17 19:36:00</td>\n",
       "    </tr>\n",
       "  </tbody>\n",
       "</table>\n",
       "</div>"
      ],
      "text/plain": [
       "      order_id  shop_id  user_id  order_value  total_items payment_method  \\\n",
       "2548      2549       78      861        25725            1           cash   \n",
       "\n",
       "               created_at           date-time  \n",
       "2548  2017-03-17 19:36:00 2017-03-17 19:36:00  "
      ]
     },
     "execution_count": 46,
     "metadata": {},
     "output_type": "execute_result"
    }
   ],
   "source": [
    "# An interesting thing we notice above is that even our median metric produces a reasonable answer, the no extreme AOV\n",
    "# still has a value that's higher than the normal ones we see.\n",
    "# We will explore this by looking at the maximum value, because as in the naive AOV, it could change the AOV drastically.\n",
    "df_30_day_no_extreme.iloc[df_30_day_no_extreme[[\"order_value\"]].idxmax()]"
   ]
  },
  {
   "cell_type": "markdown",
   "metadata": {},
   "source": [
    "We noticed that even we calculate AOV without extreme cases with total items bigger than 4, we can still have extreme cases that has a extreme order value like the one shown above.\n",
    "Below, I can tailor my no-extreme aov furthur by removing extreme order value too."
   ]
  },
  {
   "cell_type": "code",
   "execution_count": 50,
   "metadata": {},
   "outputs": [
    {
     "data": {
      "text/plain": [
       "293.0644095788604"
      ]
     },
     "execution_count": 50,
     "metadata": {},
     "output_type": "execute_result"
    }
   ],
   "source": [
    "# I use 800 here because that's 4*200, where 4 is the maximum num_items we accept as normal, and 200 is the maxium\n",
    "# price we accept as normal\n",
    "df_30_day_no_value_or_num_extreme = df_30_day_no_extreme.loc[df_30_day_no_extreme[\"order_value\"] <= 800]\n",
    "AOV_no_value_or_num_extreme = df_30_day_no_value_or_num_extreme[\"order_value\"].sum() / df_30_day_no_value_or_num_extreme[\"order_id\"].nunique()\n",
    "AOV_no_value_or_num_extreme"
   ]
  },
  {
   "cell_type": "markdown",
   "metadata": {},
   "source": [
    "Now, we can see it produces a more reasonable AOV value"
   ]
  }
 ],
 "metadata": {
  "kernelspec": {
   "display_name": "Python 3.10.6 64-bit",
   "language": "python",
   "name": "python3"
  },
  "language_info": {
   "codemirror_mode": {
    "name": "ipython",
    "version": 3
   },
   "file_extension": ".py",
   "mimetype": "text/x-python",
   "name": "python",
   "nbconvert_exporter": "python",
   "pygments_lexer": "ipython3",
   "version": "3.10.6"
  },
  "orig_nbformat": 4,
  "vscode": {
   "interpreter": {
    "hash": "b0fa6594d8f4cbf19f97940f81e996739fb7646882a419484c72d19e05852a7e"
   }
  }
 },
 "nbformat": 4,
 "nbformat_minor": 2
}
